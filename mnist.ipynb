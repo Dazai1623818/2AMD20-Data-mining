{
 "cells": [
  {
   "cell_type": "code",
   "execution_count": 1,
   "metadata": {},
   "outputs": [],
   "source": [
    "import torch\n",
    "import torch.nn as nn\n",
    "import torch.optim as optim\n",
    "import numpy as np\n",
    "import matplotlib.pyplot as plt\n",
    "from torchvision import datasets, transforms\n"
   ]
  },
  {
   "cell_type": "markdown",
   "metadata": {},
   "source": [
    "---\n",
    "## Code copied from repo"
   ]
  },
  {
   "cell_type": "code",
   "execution_count": 2,
   "metadata": {},
   "outputs": [],
   "source": [
    "finetune_wo_infodrop = True\n",
    "\n",
    "def random_sample(prob, sampling_num):\n",
    "    \"\"\" Randomly sample from probability map prob\"\"\"\n",
    "    batch_size, channels, h, w = prob.shape\n",
    "    return torch.multinomial((prob.view(batch_size * channels, -1) + 1e-8), sampling_num, replacement=True)\n",
    "\n",
    "class Info_Dropout(nn.Module):\n",
    "    def __init__(self, indim, outdim, kernel_size, stride=1, padding=0,\n",
    "                 dilation=1, groups=1, if_pool=False, pool_kernel_size=2, pool_stride=None,\n",
    "                 pool_padding=0, pool_dilation=1):\n",
    "        super(Info_Dropout, self).__init__()\n",
    "        \n",
    "        if groups != 1:\n",
    "            raise ValueError('InfoDropout only supports groups=1')\n",
    "\n",
    "        self.indim = indim\n",
    "        self.outdim = outdim\n",
    "        self.if_pool = if_pool\n",
    "        self.drop_rate = 0.1\n",
    "        self.temperature = 0.5\n",
    "        self.band_width = 1.0\n",
    "        self.radius = 3\n",
    "\n",
    "        self.patch_sampling_num = 9\n",
    "\n",
    "        self.all_one_conv_indim_wise = nn.Conv2d(self.patch_sampling_num, self.patch_sampling_num,\n",
    "                                                 kernel_size=kernel_size, stride=stride, padding=0, dilation=dilation,\n",
    "                                                 groups=self.patch_sampling_num, bias=False)\n",
    "        \n",
    "        self.all_one_conv_indim_wise.weight.data = torch.ones_like(self.all_one_conv_indim_wise.weight, dtype=torch.float)\n",
    "        self.all_one_conv_indim_wise.weight.requires_grad = False\n",
    "\n",
    "        self.all_one_conv_radius_wise = nn.Conv2d(self.patch_sampling_num, outdim, kernel_size=1, padding=0, bias=False)\n",
    "        self.all_one_conv_radius_wise.weight.data = torch.ones_like(self.all_one_conv_radius_wise.weight, dtype=torch.float)\n",
    "        self.all_one_conv_radius_wise.weight.requires_grad = False\n",
    "\n",
    "\n",
    "        if if_pool:\n",
    "            self.pool = nn.MaxPool2d(pool_kernel_size, pool_stride, pool_padding, pool_dilation)\n",
    "\n",
    "        self.padder = nn.ConstantPad2d((padding + self.radius, padding + self.radius + 1,\n",
    "                                         padding + self.radius, padding + self.radius + 1), 0)\n",
    "\n",
    "    def initialize_parameters(self):\n",
    "        self.all_one_conv_indim_wise.weight.data = torch.ones_like(self.all_one_conv_indim_wise.weight, dtype=torch.float)\n",
    "        self.all_one_conv_indim_wise.weight.requires_grad = False\n",
    "\n",
    "        self.all_one_conv_radius_wise.weight.data = torch.ones_like(self.all_one_conv_radius_wise.weight, dtype=torch.float)\n",
    "        self.all_one_conv_radius_wise.weight.requires_grad = False\n",
    "\n",
    "\n",
    "    def forward(self, x_old, x):\n",
    "        if finetune_wo_infodrop:\n",
    "            return x\n",
    "        \n",
    "        with torch.no_grad():\n",
    "            distances = []\n",
    "            padded_x_old = self.padder(x_old)\n",
    "            \n",
    "            sampled_i = [int(val) for val in torch.randint(-self.radius, self.radius + 1, size=(self.patch_sampling_num,)).tolist()]\n",
    "            sampled_j = [int(val) for val in torch.randint(-self.radius, self.radius + 1, size=(self.patch_sampling_num,)).tolist()]\n",
    "            \n",
    "            for i, j in zip(sampled_i, sampled_j):\n",
    "                tmp = padded_x_old[:, :, self.radius: -self.radius - 1, self.radius: -self.radius - 1] - \\\n",
    "                      padded_x_old[:, :, self.radius + i: -self.radius - 1 + i,\n",
    "                      self.radius + j: -self.radius - 1 + j]\n",
    "                      \n",
    "                      \n",
    "                distances.append(tmp.clone())\n",
    "                \n",
    "            distance = torch.cat(distances, dim=1)\n",
    "            batch_size, _, h_dis, w_dis = distance.shape\n",
    "            distance = (distance**2).view(-1, self.indim, h_dis, w_dis).sum(dim=1).view(batch_size, -1, h_dis, w_dis)\n",
    "            distance = self.all_one_conv_indim_wise(distance)\n",
    "            distance = torch.exp(\n",
    "                -distance / distance.mean() / 2 / self.band_width ** 2)  # using mean of distance to normalize\n",
    "            prob = (self.all_one_conv_radius_wise(distance) / self.patch_sampling_num) ** (1 / self.temperature)\n",
    "\n",
    "            if self.if_pool:\n",
    "                prob = -self.pool(-prob)  # min pooling of probability\n",
    "            prob /= prob.sum(dim=(-2, -1), keepdim=True)\n",
    "\n",
    "\n",
    "            batch_size, channels, h, w = x.shape\n",
    "\n",
    "            random_choice = random_sample(prob, sampling_num=int(self.drop_rate * h * w))\n",
    "            random_mask = torch.ones((batch_size * channels, h * w), device='cuda:0')\n",
    "            random_mask[torch.arange(batch_size * channels, device='cuda:0').view(-1, 1), random_choice] = 0\n",
    "\n",
    "        return x * random_mask.view(x.shape)"
   ]
  },
  {
   "cell_type": "markdown",
   "metadata": {},
   "source": [
    "---\n",
    "\n",
    "## Simple neural net with infodropout"
   ]
  },
  {
   "cell_type": "code",
   "execution_count": 3,
   "metadata": {},
   "outputs": [],
   "source": [
    "class SimpleCNN(nn.Module):\n",
    "    def __init__(self):\n",
    "        super(SimpleCNN, self).__init__()\n",
    "        self.conv1 = nn.Conv2d(1, 32, 3, 1)\n",
    "        self.conv2 = nn.Conv2d(32, 64, 3, 1)\n",
    "        self.info_dropout = Info_Dropout(32, 64, 3) \n",
    "        self.fc1 = nn.Linear(9216, 128)\n",
    "        self.fc2 = nn.Linear(128, 10)\n",
    "\n",
    "    def forward(self, x):\n",
    "        x1 = nn.ReLU()(self.conv1(x))\n",
    "        x2 = nn.ReLU()(self.conv2(x1))\n",
    "        x2_dropped = self.info_dropout(x1, x2) \n",
    "        x2_pooled = nn.MaxPool2d(2)(x2_dropped)\n",
    "        x_flatten = torch.flatten(x2_pooled, 1)\n",
    "        x_fc1 = nn.ReLU()(self.fc1(x_flatten))\n",
    "        return nn.LogSoftmax(dim=1)(self.fc2(x_fc1))"
   ]
  },
  {
   "cell_type": "markdown",
   "metadata": {},
   "source": [
    "---\n",
    "## custom data class"
   ]
  },
  {
   "cell_type": "code",
   "execution_count": 4,
   "metadata": {},
   "outputs": [],
   "source": [
    "import numpy as np\n",
    "from torchvision import datasets\n",
    "import torch\n",
    "\n",
    "class CustomMnist(datasets.MNIST):\n",
    "    def __init__(self, num_classes=6, stripe_thickness=1, stripe_distance=3, vertical_stripe_thickness=1, vertical_stripe_distance=3, *args, **kwargs):\n",
    "        super(CustomMnist, self).__init__(*args, **kwargs)\n",
    "        \n",
    "        # Set class attributes from the provided parameters\n",
    "        self.num_classes = num_classes\n",
    "        self.stripe_thickness = stripe_thickness\n",
    "        self.stripe_distance = stripe_distance\n",
    "        self.vertical_stripe_thickness = vertical_stripe_thickness\n",
    "        self.vertical_stripe_distance = vertical_stripe_distance\n",
    "\n",
    "        # Determine if the dataset is in training or testing mode\n",
    "        if self.train:\n",
    "            mask = self.train_labels <= self.num_classes\n",
    "            self.train_data = self.train_data[mask]\n",
    "            self.train_labels = self.train_labels[mask]\n",
    "        else:\n",
    "            mask = self.test_labels <= self.num_classes\n",
    "            self.test_data = self.test_data[mask]\n",
    "            self.test_labels = self.test_labels[mask]\n",
    "            \n",
    "        # Add texture to the images\n",
    "        self.add_texture()\n",
    "\n",
    "    def add_texture(self):\n",
    "        # Generate a simple random noise\n",
    "        noise = (np.random.rand(28, 28) * 255).astype(np.uint8)\n",
    "\n",
    "        # Create a striped mask\n",
    "        stripe_mask = np.zeros((28, 28), dtype=np.uint8)\n",
    "        \n",
    "        # Horizontal stripes\n",
    "        for i in range(self.stripe_thickness):\n",
    "            stripe_mask[i::(self.stripe_thickness + self.stripe_distance), :] = 1 \n",
    "\n",
    "        # Vertical stripes\n",
    "        for i in range(self.vertical_stripe_thickness):\n",
    "            stripe_mask[:, i::(self.vertical_stripe_thickness + self.vertical_stripe_distance)] = 1 \n",
    "\n",
    "        # Apply mask to the noise\n",
    "        texture = noise * stripe_mask\n",
    "\n",
    "        if self.train:\n",
    "            for i in range(len(self.train_data)):\n",
    "                blended_image = self.blend(self.train_data[i].numpy(), texture)\n",
    "                self.train_data[i] = torch.ByteTensor(blended_image)\n",
    "        else:\n",
    "            for i in range(len(self.test_data)):\n",
    "                blended_image = self.blend(self.test_data[i].numpy(), texture)\n",
    "                self.test_data[i] = torch.ByteTensor(blended_image)\n",
    "    \n",
    "    @staticmethod\n",
    "    def blend(image, texture):\n",
    "        # Simple blending: weighted sum\n",
    "        return np.clip(image + texture, 0, 255).astype(np.uint8)\n"
   ]
  },
  {
   "cell_type": "markdown",
   "metadata": {},
   "source": [
    "---\n",
    "## train and test functions"
   ]
  },
  {
   "cell_type": "code",
   "execution_count": 5,
   "metadata": {},
   "outputs": [],
   "source": [
    "def train(model, train_loader, optimizer, criterion, device, epochs):\n",
    "    \"\"\"\n",
    "    Train the model.\n",
    "    \n",
    "    Parameters:\n",
    "    - model: The neural network model.\n",
    "    - train_loader: DataLoader for the training dataset.\n",
    "    - optimizer: The optimization algorithm.\n",
    "    - criterion: The loss function.\n",
    "    - device: The device (e.g., 'cuda' or 'cpu') to run the model on.\n",
    "    - epochs: Number of epochs to train.\n",
    "    \"\"\"\n",
    "    model.train()\n",
    "    for epoch in range(epochs):\n",
    "        for batch_idx, (data, target) in enumerate(train_loader):\n",
    "            data, target = data.to(device), target.to(device)\n",
    "\n",
    "            optimizer.zero_grad()\n",
    "            output = model(data)\n",
    "            loss = criterion(output, target)\n",
    "            loss.backward()\n",
    "            optimizer.step()\n",
    "\n",
    "            if batch_idx % 100 == 0:\n",
    "                print(f\"Epoch: {epoch+1}, Batch: {batch_idx}, Loss: {loss.item():.4f}\")\n",
    "\n",
    "\n",
    "def test(model, test_loader, criterion, device):\n",
    "    \"\"\"\n",
    "    Test the model.\n",
    "\n",
    "    Parameters:\n",
    "    - model: The neural network model.\n",
    "    - test_loader: DataLoader for the test dataset.\n",
    "    - criterion: The loss function.\n",
    "    - device: The device (e.g., 'cuda' or 'cpu') to run the model on.\n",
    "    \"\"\"\n",
    "    model.eval()\n",
    "    test_loss = 0\n",
    "    correct = 0\n",
    "    with torch.no_grad():\n",
    "        for data, target in test_loader:\n",
    "            data, target = data.to(device), target.to(device)\n",
    "            output = model(data)\n",
    "            test_loss += criterion(output, target).item()\n",
    "            pred = output.argmax(dim=1, keepdim=True)\n",
    "            correct += pred.eq(target.view_as(pred)).sum().item()\n",
    "\n",
    "    test_loss /= len(test_loader.dataset)\n",
    "    print(f\"\\nTest set: Average loss: {test_loss:.4f}, Accuracy: {correct}/{len(test_loader.dataset)} ({100. * correct / len(test_loader.dataset):.0f}%)\\n\")"
   ]
  },
  {
   "cell_type": "markdown",
   "metadata": {},
   "source": [
    "---"
   ]
  },
  {
   "cell_type": "code",
   "execution_count": 6,
   "metadata": {},
   "outputs": [
    {
     "name": "stdout",
     "output_type": "stream",
     "text": [
      "Downloading http://yann.lecun.com/exdb/mnist/train-images-idx3-ubyte.gz\n",
      "Downloading http://yann.lecun.com/exdb/mnist/train-labels-idx1-ubyte.gz\n",
      "Downloading http://yann.lecun.com/exdb/mnist/t10k-images-idx3-ubyte.gz\n",
      "Downloading http://yann.lecun.com/exdb/mnist/t10k-labels-idx1-ubyte.gz\n",
      "Processing...\n",
      "Done!\n"
     ]
    },
    {
     "data": {
      "image/png": "[encoded data removed]",
      "text/plain": [
       "<Figure size 1440x720 with 20 Axes>"
      ]
     },
     "metadata": {
      "needs_background": "light"
     },
     "output_type": "display_data"
    }
   ],
   "source": [
    "# Plot images with texture\n",
    "dataset = CustomMnist(root='./data', train=True, download=True, num_classes=5, stripe_thickness=0, vertical_stripe_thickness=0)\n",
    "plt.figure(figsize=(20, 10))\n",
    "for i in range(20):\n",
    "    plt.subplot(1, 20, i + 1)\n",
    "    plt.imshow(dataset[i][0], cmap='gray')\n",
    "    plt.axis('off')\n",
    "plt.show()"
   ]
  },
  {
   "cell_type": "markdown",
   "metadata": {},
   "source": [
    "You can play around with the parameters here, for now noise can be added and adjusted using stripe_thickness, stripe_distance, vertical_stripe_thickness, vertical_stripe_distance and the number of classes included can be changed with num_classes"
   ]
  },
  {
   "cell_type": "code",
   "execution_count": 7,
   "metadata": {},
   "outputs": [],
   "source": [
    "# Hyperparameters\n",
    "BATCH_SIZE = 64\n",
    "EPOCHS = 5\n",
    "LR = 0.01\n",
    "DEVICE = 'cuda' if torch.cuda.is_available() else 'cpu'\n",
    "# False for finetuning WITH InfoDropout\n",
    "finetune_wo_infodrop = False\n",
    "\n",
    "# Download and load data\n",
    "transform = transforms.ToTensor()\n",
    "\n",
    "train_dataset = CustomMnist(root='./data', train=True, transform=transform, num_classes=5, stripe_thickness=2, stripe_distance=4)\n",
    "train_loader = torch.utils.data.DataLoader(train_dataset, batch_size=BATCH_SIZE, shuffle=True)\n",
    "\n",
    "test_dataset = CustomMnist(root='./data', train=False, transform=transform, num_classes=5, stripe_thickness=2, stripe_distance=4)\n",
    "test_loader = torch.utils.data.DataLoader(test_dataset, batch_size=BATCH_SIZE, shuffle=True)\n",
    "\n",
    "\n",
    "# Model, loss, and optimizer\n",
    "model = SimpleCNN().to(DEVICE)\n",
    "optimizer = optim.Adam(model.parameters(), lr=LR)\n",
    "criterion = nn.CrossEntropyLoss()"
   ]
  },
  {
   "cell_type": "code",
   "execution_count": 8,
   "metadata": {},
   "outputs": [
    {
     "name": "stdout",
     "output_type": "stream",
     "text": [
      "Epoch: 1, Batch: 0, Loss: 2.2825\n",
      "Epoch: 1, Batch: 100, Loss: 0.2548\n",
      "Epoch: 1, Batch: 200, Loss: 0.0932\n",
      "Epoch: 1, Batch: 300, Loss: 0.1537\n",
      "Epoch: 1, Batch: 400, Loss: 0.1422\n",
      "Epoch: 1, Batch: 500, Loss: 0.0792\n",
      "Epoch: 2, Batch: 0, Loss: 0.0170\n",
      "Epoch: 2, Batch: 100, Loss: 0.0238\n",
      "Epoch: 2, Batch: 200, Loss: 0.0506\n",
      "Epoch: 2, Batch: 300, Loss: 0.0653\n",
      "Epoch: 2, Batch: 400, Loss: 0.1136\n",
      "Epoch: 2, Batch: 500, Loss: 0.0371\n",
      "Epoch: 3, Batch: 0, Loss: 0.0146\n",
      "Epoch: 3, Batch: 100, Loss: 0.1424\n",
      "Epoch: 3, Batch: 200, Loss: 0.0211\n",
      "Epoch: 3, Batch: 300, Loss: 0.0550\n",
      "Epoch: 3, Batch: 400, Loss: 0.0748\n",
      "Epoch: 3, Batch: 500, Loss: 0.0359\n",
      "Epoch: 4, Batch: 0, Loss: 0.0346\n",
      "Epoch: 4, Batch: 100, Loss: 0.1463\n",
      "Epoch: 4, Batch: 200, Loss: 0.1281\n",
      "Epoch: 4, Batch: 300, Loss: 0.0681\n",
      "Epoch: 4, Batch: 400, Loss: 0.0121\n",
      "Epoch: 4, Batch: 500, Loss: 0.0737\n",
      "Epoch: 5, Batch: 0, Loss: 0.0689\n",
      "Epoch: 5, Batch: 100, Loss: 0.1324\n",
      "Epoch: 5, Batch: 200, Loss: 0.0178\n",
      "Epoch: 5, Batch: 300, Loss: 0.0187\n",
      "Epoch: 5, Batch: 400, Loss: 0.0635\n",
      "Epoch: 5, Batch: 500, Loss: 0.1958\n"
     ]
    }
   ],
   "source": [
    "train(model, train_loader, optimizer, criterion, DEVICE, EPOCHS)"
   ]
  },
  {
   "cell_type": "code",
   "execution_count": 9,
   "metadata": {},
   "outputs": [
    {
     "name": "stdout",
     "output_type": "stream",
     "text": [
      "\n",
      "Test set: Average loss: 0.0010, Accuracy: 5901/6031 (98%)\n",
      "\n"
     ]
    }
   ],
   "source": [
    "test(model, test_loader, criterion, DEVICE)\n"
   ]
  }
 ],
 "metadata": {
  "kernelspec": {
   "display_name": "pytorch",
   "language": "python",
   "name": "python3"
  },
  "language_info": {
   "codemirror_mode": {
    "name": "ipython",
    "version": 3
   },
   "file_extension": ".py",
   "mimetype": "text/x-python",
   "name": "python",
   "nbconvert_exporter": "python",
   "pygments_lexer": "ipython3",
   "version": "3.6.13"
  },
  "orig_nbformat": 4
 },
 "nbformat": 4,
 "nbformat_minor": 2
}
